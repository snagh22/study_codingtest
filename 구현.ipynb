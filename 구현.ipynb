{
 "cells": [
  {
   "cell_type": "markdown",
   "metadata": {},
   "source": [
    "## 구현 \n",
    "\n",
    "#### 예제1 상하좌우 \n",
    "\n",
    "<입력 예시>&nbsp;&nbsp;&nbsp;&nbsp;&nbsp;<출력 예시>\n",
    "\n",
    "5   &nbsp;&nbsp;&nbsp;&nbsp;  &nbsp;&nbsp;&nbsp;&nbsp;&nbsp;&nbsp;&nbsp;&nbsp;&nbsp;&nbsp;&nbsp;&nbsp;&nbsp;&nbsp;&nbsp;&nbsp;&nbsp;&nbsp;&nbsp;         3 4\n",
    "\n",
    "R R R U D D"
   ]
  },
  {
   "cell_type": "code",
   "execution_count": 5,
   "metadata": {
    "scrolled": true
   },
   "outputs": [
    {
     "name": "stdout",
     "output_type": "stream",
     "text": [
      "5\n",
      "R R R U D D\n",
      "3 4\n"
     ]
    }
   ],
   "source": [
    "n=int(input())\n",
    "x,y=1,1\n",
    "dir=input().split()\n",
    "for d in dir:\n",
    "    if d==\"R\" and y<n:\n",
    "        y+=1\n",
    "    elif d ==\"L\" and y>1:\n",
    "        y-=1\n",
    "    elif d ==\"U\" and x>1:\n",
    "        x-=1\n",
    "    elif d==\"D\" and x<n:\n",
    "        x+=1\n",
    "print(x,y)"
   ]
  },
  {
   "cell_type": "code",
   "execution_count": 7,
   "metadata": {},
   "outputs": [
    {
     "name": "stdout",
     "output_type": "stream",
     "text": [
      "5\n",
      "R R R U D D\n",
      "3 4\n"
     ]
    }
   ],
   "source": [
    "#문제 해설 \n",
    "\n",
    "n= int(input())\n",
    "x,y=1,1\n",
    "plans = input().split()\n",
    "\n",
    "dx=[0,0,1,-1]\n",
    "dy=[1,-1,0,0]\n",
    "dir=['R','L','D','U']\n",
    "\n",
    "for plan in plans:\n",
    "    for i in range(len(dir)):\n",
    "        if plan ==dir[i]:\n",
    "            nx=x+dx[i]\n",
    "            ny=y+dy[i]\n",
    "        if nx<1 or nx>n or ny<1 or ny>n:\n",
    "            continue\n",
    "        x,y=nx,ny\n",
    "print(x,y)\n",
    "        \n",
    "    "
   ]
  },
  {
   "cell_type": "markdown",
   "metadata": {},
   "source": [
    "#### 예제 2 시각\n",
    "\n",
    "완전탐색\n",
    "\n",
    "00시 00분 00초부터 N시 59분 59초까지 모든 시각 중 3이 하나라도 포함되는 모든 경우의 수를 구하시오\n",
    "\n",
    "<입력 예시> &nbsp;&nbsp;&nbsp;&nbsp;&nbsp;&nbsp;&nbsp;<출력 예시>\n",
    "\n",
    " 5&nbsp;&nbsp;&nbsp;&nbsp;&nbsp;&nbsp;&nbsp;&nbsp;&nbsp; &nbsp;&nbsp;&nbsp;&nbsp;&nbsp;&nbsp;&nbsp;&nbsp;&nbsp;&nbsp;&nbsp;&nbsp;&nbsp;&nbsp;&nbsp;&nbsp;&nbsp;&nbsp;&nbsp;11475\n",
    "\n",
    "문제 해설: 매 시각을 문자열로 바꾼 다음 문자열 '3'이 포함됐는지 검사 \n",
    "\n",
    "ex) 5시 20분 35초일 때 '032035'로 만들어 3이 포함되어 있는지 검사 "
   ]
  },
  {
   "cell_type": "code",
   "execution_count": 8,
   "metadata": {},
   "outputs": [
    {
     "name": "stdout",
     "output_type": "stream",
     "text": [
      "5\n",
      "11475\n"
     ]
    }
   ],
   "source": [
    "n=int(input())\n",
    "count=0\n",
    "for i in range(n+1):\n",
    "    for j in range(60):\n",
    "        for k in range(60):\n",
    "            if '3' in str(i)+str(j)+str(k):\n",
    "                count+=1\n",
    "print(count)            "
   ]
  },
  {
   "cell_type": "markdown",
   "metadata": {},
   "source": [
    "#### 실전문제 1. 왕실의 나이트\n",
    "\n",
    "8x8 좌표 평면\n",
    "\n",
    "나이트는 2가지 경우로 이동할 수 있다. \n",
    "\n",
    "1. 수평으로 2칸 이동한 뒤에 수직으로 1칸 이동\n",
    "\n",
    "2. 수직으로 2칸 이동한 뒤에 수평으로 1칸 이동\n",
    "\n",
    "\n",
    "열 : a ~ h /  행 : 1 ~ 8\n",
    "\n",
    "ex) a1에서 이동할 수 있는 경우의 수 : 2\n",
    "\n",
    "--> 오른쪽 두 칸 이동 후 아래로 한 칸 (c2)\n",
    "\n",
    "--> 아래로 두 칸 이동 후 오른쪽으로 한 칸 (b3)\n",
    "\n",
    "<입력 예시> &nbsp;&nbsp;&nbsp;&nbsp;&nbsp;&nbsp;&nbsp;<출력 예시>\n",
    "\n",
    " &nbsp;a1 &nbsp;&nbsp;&nbsp;&nbsp;&nbsp;&nbsp;&nbsp;&nbsp;&nbsp;&nbsp;&nbsp;&nbsp;&nbsp;&nbsp;&nbsp;&nbsp;&nbsp;&nbsp;&nbsp;&nbsp;&nbsp;&nbsp;&nbsp;2\n",
    "\n"
   ]
  },
  {
   "cell_type": "code",
   "execution_count": 47,
   "metadata": {},
   "outputs": [
    {
     "name": "stdout",
     "output_type": "stream",
     "text": [
      "c2\n",
      "6\n"
     ]
    }
   ],
   "source": [
    "p = input()\n",
    "\n",
    "col=['a','b','c','d','e','f','g','h']\n",
    "x=int(p[1])\n",
    "y=col.index(p[0])+1\n",
    "    \n",
    "dx=[1,-1,2,2,-2,-2,-1,1]\n",
    "dy=[2,2,-1,1,-1,1,-2,-2]\n",
    "cnt=0\n",
    "for i in range(8):\n",
    "    nx,ny=0,0\n",
    "    nx=x+dx[i]\n",
    "    ny=y+dy[i]\n",
    "    if nx<1 or nx>9 or ny<1 or ny>9:\n",
    "        continue\n",
    "    \n",
    "    cnt+=1\n",
    "print(cnt)\n",
    "        \n",
    "    "
   ]
  },
  {
   "cell_type": "code",
   "execution_count": 5,
   "metadata": {},
   "outputs": [
    {
     "name": "stdout",
     "output_type": "stream",
     "text": [
      "c2\n",
      "6\n"
     ]
    }
   ],
   "source": [
    "#문제 해설 \n",
    "\n",
    "input_data=input()\n",
    "row=int(input_data[1])\n",
    "col=int(ord(input_data[0])) - int(ord('a'))+1\n",
    "\n",
    "steps=[(1,2),(-1,2),(2,-1),(2,1),(-2,-1),(-2,1),(-1,-2),(1,-2)]\n",
    "\n",
    "result=0\n",
    "for step in steps:\n",
    "    nr=row+step[0]\n",
    "    nc=col+step[1]\n",
    "    if nr>=1 and nc>=1 and nr<=8 and nc<=8:\n",
    "        result+=1\n",
    "print(result)"
   ]
  },
  {
   "cell_type": "markdown",
   "metadata": {},
   "source": [
    "#### 실전문제 2. 게임 개발\n",
    "\n",
    "유형 : 시뮬레이션 \n",
    "\n",
    "1. 현재 위치에서 현재 방향을 기준으로 왼쪽 방향부터 차례대로 갈 곳을 정한다\n",
    "\n",
    "\n",
    "2. 캐릭터의 바로 왼쪽 방향에 아직 가보지 않은 칸이 존재한다면, 왼쪽 방향으로 회전한 다음 왼쪽으로 한 칸을 전진한다. 왼쪽 방향에 가보지 않은 칸이 없다면, 왼쪽 방향으로 회전만 수행하고 1단계로 돌아간다.\n",
    "\n",
    "\n",
    "3. 만약 4 방향 모두 이미 가본 칸이거나 바다로 되어 있는 경우에는, 바라보는 방향 유지한 채로 한 칸 뒤로 가고 1단계로 돌아간다. 단, 이때 뒤쪽 방향이 바다라면 움직임을 멈춘다.\n",
    "\n",
    "<입력예시> &nbsp;&nbsp;&nbsp;&nbsp;&nbsp;&nbsp;&nbsp;&nbsp;&nbsp;&nbsp;<출력 예시>\n",
    "\n",
    "4 4 &nbsp;&nbsp;&nbsp;&nbsp;&nbsp;&nbsp;&nbsp;&nbsp;&nbsp;&nbsp;&nbsp;&nbsp;&nbsp;&nbsp;&nbsp;&nbsp;&nbsp;&nbsp;&nbsp;&nbsp;&nbsp;&nbsp;&nbsp;&nbsp;&nbsp;&nbsp;&nbsp; 3\n",
    " \n",
    "1 1 0\n",
    "\n",
    "1 1 1 1 \n",
    "\n",
    "1 0 0 1\n",
    "\n",
    "1 1 0 1\n",
    "\n",
    "1 1 1 1 \n",
    "\n",
    "\n"
   ]
  },
  {
   "cell_type": "code",
   "execution_count": 4,
   "metadata": {},
   "outputs": [
    {
     "name": "stdout",
     "output_type": "stream",
     "text": [
      "5 5\n",
      "2 1 0\n",
      "1 1 1 1 1\n",
      "1 0 0 1 1\n",
      "1 0 1 0 1\n",
      "1 1 0 0 1\n",
      "1 1 1 1 1\n",
      "3\n"
     ]
    }
   ],
   "source": [
    "n,m = map(int,input().split())\n",
    "x,y,dir=map(int,input().split())\n",
    "#map 0으로 초기화 \n",
    "d=[[0]*m for _ in range(n)]\n",
    "d[x][y]=1\n",
    "\n",
    "array=[]\n",
    "for _ in range(m):\n",
    "    array.append(list(map(int,input().split())))\n",
    "#북, 동, 남, 서 방향 정의\n",
    "dx=[-1,0,1,0]\n",
    "dy=[0,1,0,-1]\n",
    "\n",
    "#왼쪽으로 회전\n",
    "def turn_left():\n",
    "    global dir\n",
    "    dir-=1\n",
    "    if dir==-1:\n",
    "        dir=3\n",
    "        \n",
    "#시뮬레이션 시작\n",
    "count=1\n",
    "turn_time=0\n",
    "while True:\n",
    "    turn_left()\n",
    "    nx = x+dx[dir]\n",
    "    ny = y+dy[dir]\n",
    "    #회전한 이후 정면에 가보지 않은 칸이 존재하는 경우 이동 \n",
    "    if d[nx][ny]==0 and array[nx][ny]==0:\n",
    "        count+=1\n",
    "        d[nx][ny]=1\n",
    "        x=nx\n",
    "        y=ny\n",
    "        turn_time=0\n",
    "        continue\n",
    "    #회전한 이후 정면에 가보지 않은 칸이 없거나 바다인 경우\n",
    "    else:\n",
    "        turn_time+=1\n",
    "    #네 방향 모두 갈 수 없는 경우 \n",
    "    if turn_time ==4:\n",
    "        nx=x-dx[dir]\n",
    "        ny=y-dy[dir]\n",
    "        #뒤로 갈 수 있다면 이동\n",
    "        if array[nx][ny]==0:\n",
    "            x=nx\n",
    "            y=ny\n",
    "        #뒤가 바다로 막힌 경우 \n",
    "        else:\n",
    "            break\n",
    "        turn_time=0\n",
    "print(count)\n",
    "        \n",
    "\n"
   ]
  }
 ],
 "metadata": {
  "kernelspec": {
   "display_name": "Python 3",
   "language": "python",
   "name": "python3"
  },
  "language_info": {
   "codemirror_mode": {
    "name": "ipython",
    "version": 3
   },
   "file_extension": ".py",
   "mimetype": "text/x-python",
   "name": "python",
   "nbconvert_exporter": "python",
   "pygments_lexer": "ipython3",
   "version": "3.7.4"
  }
 },
 "nbformat": 4,
 "nbformat_minor": 2
}
