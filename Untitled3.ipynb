{
 "cells": [
  {
   "cell_type": "markdown",
   "metadata": {},
   "source": [
    "## 구현 \n",
    "\n",
    "#### 예제1 상하좌우 \n",
    "\n",
    "<입력 예시>&nbsp;&nbsp;&nbsp;&nbsp;&nbsp;<출력 예시>\n",
    "\n",
    "5   &nbsp;&nbsp;&nbsp;&nbsp;  &nbsp;&nbsp;&nbsp;&nbsp;&nbsp;&nbsp;&nbsp;&nbsp;&nbsp;&nbsp;&nbsp;&nbsp;&nbsp;&nbsp;&nbsp;&nbsp;&nbsp;&nbsp;&nbsp;         3 4\n",
    "\n",
    "R R R U D D"
   ]
  },
  {
   "cell_type": "code",
   "execution_count": 5,
   "metadata": {
    "scrolled": true
   },
   "outputs": [
    {
     "name": "stdout",
     "output_type": "stream",
     "text": [
      "5\n",
      "R R R U D D\n",
      "3 4\n"
     ]
    }
   ],
   "source": [
    "n=int(input())\n",
    "x,y=1,1\n",
    "dir=input().split()\n",
    "for d in dir:\n",
    "    if d==\"R\" and y<n:\n",
    "        y+=1\n",
    "    elif d ==\"L\" and y>1:\n",
    "        y-=1\n",
    "    elif d ==\"U\" and x>1:\n",
    "        x-=1\n",
    "    elif d==\"D\" and x<n:\n",
    "        x+=1\n",
    "print(x,y)"
   ]
  },
  {
   "cell_type": "code",
   "execution_count": 7,
   "metadata": {},
   "outputs": [
    {
     "name": "stdout",
     "output_type": "stream",
     "text": [
      "5\n",
      "R R R U D D\n",
      "3 4\n"
     ]
    }
   ],
   "source": [
    "#문제 해설 \n",
    "\n",
    "n= int(input())\n",
    "x,y=1,1\n",
    "plans = input().split()\n",
    "\n",
    "dx=[0,0,1,-1]\n",
    "dy=[1,-1,0,0]\n",
    "dir=['R','L','D','U']\n",
    "\n",
    "for plan in plans:\n",
    "    for i in range(len(dir)):\n",
    "        if plan ==dir[i]:\n",
    "            nx=x+dx[i]\n",
    "            ny=y+dy[i]\n",
    "        if nx<1 or nx>n or ny<1 or ny>n:\n",
    "            continue\n",
    "        x,y=nx,ny\n",
    "print(x,y)\n",
    "        \n",
    "    "
   ]
  },
  {
   "cell_type": "markdown",
   "metadata": {},
   "source": [
    "#### 예제 2 시각\n",
    "\n",
    "완전탐색\n",
    "\n",
    "00시 00분 00초부터 N시 59분 59초까지 모든 시각 중 3이 하나라도 포함되는 모든 경우의 수를 구하시오\n",
    "\n",
    "<입력 예시> &nbsp;&nbsp;&nbsp;&nbsp;&nbsp;&nbsp;&nbsp;<출력 예시>\n",
    "\n",
    " 5&nbsp;&nbsp;&nbsp;&nbsp;&nbsp;&nbsp;&nbsp;&nbsp;&nbsp; &nbsp;&nbsp;&nbsp;&nbsp;&nbsp;&nbsp;&nbsp;&nbsp;&nbsp;&nbsp;&nbsp;&nbsp;&nbsp;&nbsp;&nbsp;&nbsp;&nbsp;&nbsp;&nbsp;11475\n",
    "\n",
    "문제 해설: 매 시각을 문자열로 바꾼 다음 문자열 '3'이 포함됐는지 검사 \n",
    "\n",
    "ex) 5시 20분 35초일 때 '032035'로 만들어 3이 포함되어 있는지 검사 "
   ]
  },
  {
   "cell_type": "code",
   "execution_count": 8,
   "metadata": {},
   "outputs": [
    {
     "name": "stdout",
     "output_type": "stream",
     "text": [
      "5\n",
      "11475\n"
     ]
    }
   ],
   "source": [
    "n=int(input())\n",
    "count=0\n",
    "for i in range(n+1):\n",
    "    for j in range(60):\n",
    "        for k in range(60):\n",
    "            if '3' in str(i)+str(j)+str(k):\n",
    "                count+=1\n",
    "print(count)            "
   ]
  }
 ],
 "metadata": {
  "kernelspec": {
   "display_name": "Python 3",
   "language": "python",
   "name": "python3"
  },
  "language_info": {
   "codemirror_mode": {
    "name": "ipython",
    "version": 3
   },
   "file_extension": ".py",
   "mimetype": "text/x-python",
   "name": "python",
   "nbconvert_exporter": "python",
   "pygments_lexer": "ipython3",
   "version": "3.7.4"
  }
 },
 "nbformat": 4,
 "nbformat_minor": 2
}
