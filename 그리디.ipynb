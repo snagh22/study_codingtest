{
 "cells": [
  {
   "cell_type": "markdown",
   "metadata": {},
   "source": [
    "# 그리디\n",
    "\n",
    "\"현재 상황에서 지금 당장 좋은 것만 고르는 방법\"\n",
    "\n",
    "* 대체로 정렬 알고리즘과 짝을 이룸 \n"
   ]
  },
  {
   "cell_type": "markdown",
   "metadata": {},
   "source": [
    "### 대표예제 - 거스름돈 \n",
    "\n",
    "**point** - 가장 큰 화폐 단위부터 거슬러 주는 것 \n",
    "\n",
    "화폐의 종류 K개라면 시간복잡도 O(K)"
   ]
  },
  {
   "cell_type": "code",
   "execution_count": 1,
   "metadata": {},
   "outputs": [
    {
     "name": "stdout",
     "output_type": "stream",
     "text": [
      "6\n"
     ]
    }
   ],
   "source": [
    "n= 1260 \n",
    "\n",
    "count=0\n",
    "\n",
    "coin=[500, 100, 50, 10]\n",
    "\n",
    "for c in coin:\n",
    "  \n",
    "      count += n//c\n",
    "    \n",
    "      n%=c\n",
    "    \n",
    "print(count)\n"
   ]
  },
  {
   "cell_type": "markdown",
   "metadata": {},
   "source": [
    "### 1. 큰 수의 법칙\n",
    "\n",
    "주어진 수들을 m번 더하여 가장 큰 수를 만드는 법칙. 단, 특정 수가 연속해서 k번을 초과하여 더해질 수 없다.\n",
    "\n",
    "ex1) [2, 4, 5, 4, 6] m=8, k=3일 때 -> 6 + 6 + 6 + 5 + 6 + 6 + 6 + 5 = 46\n",
    "\n",
    "ex2) [3, 4, 3, 4, 3] m=7, k=2일 때 -> 4 + 4 + 4 + 4 + 4 + 4 + 4 = 28\n",
    "\n",
    "\n",
    "**입력 예시**                        \n",
    "\n",
    "5 8 3                                 \n",
    "\n",
    "2 4 5 4 6\n",
    "\n",
    " **출력 예시**\n",
    "\n",
    "46\n",
    "\n",
    "**point** - 가장 큰 수를 k번 더하고 두 번째로 큰 수를 한 번 더하는 연산 \n"
   ]
  },
  {
   "cell_type": "code",
   "execution_count": 2,
   "metadata": {},
   "outputs": [
    {
     "name": "stdout",
     "output_type": "stream",
     "text": [
      "5 8 3\n",
      "2 4 5 4 6\n",
      "46\n"
     ]
    }
   ],
   "source": [
    "n,m,k = map(int,input().split())\n",
    "array = list(map(int,input().split()))\n",
    "\n",
    "array.sort()\n",
    "first= array[-1]\n",
    "second = array[-2]\n",
    "\n",
    "result = 0\n",
    "\n",
    "while True:\n",
    "    for i in range(k):\n",
    "        if m==0:\n",
    "            break\n",
    "        result += first\n",
    "        m -= 1\n",
    "\n",
    "    if m==0:\n",
    "        break\n",
    "    result += second\n",
    "    m -= 1\n",
    "\n",
    "print(result)\n"
   ]
  },
  {
   "cell_type": "markdown",
   "metadata": {},
   "source": [
    "##### m의 크기가 100억 이상이라면 더 효율적인 방법이 필요\n",
    "\n",
    "**point** - 반복되는 수열에 대해 파악\n"
   ]
  },
  {
   "cell_type": "code",
   "execution_count": 3,
   "metadata": {},
   "outputs": [
    {
     "name": "stdout",
     "output_type": "stream",
     "text": [
      "5 8 3\n",
      "2 4 5 4 6\n",
      "46\n"
     ]
    }
   ],
   "source": [
    "n,m,k = map(int,input().split())\n",
    "array = list(map(int,input().split()))\n",
    "\n",
    "array.sort()\n",
    "first= array[-1]\n",
    "second = array[-2]\n",
    "\n",
    "result = 0\n",
    "\n",
    "count=int(m/(k+1))*k + m%(k+1)\n",
    "result+=first*count\n",
    "result+=second*(m-count)\n",
    "\n",
    "print(result)    "
   ]
  },
  {
   "cell_type": "markdown",
   "metadata": {},
   "source": [
    "### 2. 숫자 카드 게임 \n",
    "\n",
    "1. n 행, m 열\n",
    "\n",
    "2. 선택된 행에 포함된 카드들 중 가장 낮은 숫자 카드를 뽑아야 함 \n",
    "\n",
    "3. 최종적으로 작은 숫자 카드 중 가장 높은 숫자의 카드 뽑기\n",
    "\n",
    "**입력예시**\n",
    "\n",
    "3 3\n",
    "\n",
    "3 1 2\n",
    "\n",
    "4 1 4\n",
    "\n",
    "2 2 2 \n",
    "\n",
    "**출력예시**\n",
    "\n",
    "2\n",
    "\n",
    "**point** - 각 행마다 가장 작은 수를 찾은 뒤에 그 수 중에서 가장 큰 수 찾기\n"
   ]
  },
  {
   "cell_type": "code",
   "execution_count": 4,
   "metadata": {},
   "outputs": [
    {
     "name": "stdout",
     "output_type": "stream",
     "text": [
      "3 3\n",
      "3 1 2\n",
      "4 1 4\n",
      "2 2 2\n",
      "2\n"
     ]
    }
   ],
   "source": [
    "#min()함수 이용\n",
    "n,m = map(int,input().split())\n",
    "result=0\n",
    "for i in range(n):\n",
    "    data=list(map(int,input().split()))\n",
    "    min_value = min(data)\n",
    "    result=max(min_value,result)\n",
    "print(result)"
   ]
  },
  {
   "cell_type": "code",
   "execution_count": null,
   "metadata": {},
   "outputs": [],
   "source": [
    "# 2중 반복문 이용\n",
    "\n",
    "n,m = map(int,input().split())\n",
    "result=0\n",
    "\n",
    "for i in range(n):\n",
    "    data=list(map(int,input().split()))\n",
    "    min_value=100001\n",
    "\n",
    "    for a in data:\n",
    "        if a<min_value:\n",
    "            min_value=a\n",
    "    result = max(result,min_value)\n",
    "\n",
    "print(result)\n"
   ]
  },
  {
   "cell_type": "markdown",
   "metadata": {},
   "source": [
    "### 3. 1 만들기\n",
    "\n",
    "n과 k가 주어질 때 n이 1이 될 때까지 조건 1번 혹은 2번을 수행해야 하는 최소 횟수를 구하는 프로그램\n",
    "\n",
    "<조건> \n",
    "\n",
    "1. n에서 1을 뺀다\n",
    "\n",
    "2. n을 k로 나눈다 (n이 k로 나누어떨어질 때)\n",
    "\n",
    "ex) n = 17, k = 4 일 때, 17 -> 16 -> 4 -> 1 답: 3\n",
    "\n",
    "**입력예시**\n",
    "\n",
    "25 5\n",
    "\n",
    "**출력 예시**\n",
    "\n",
    "2\n",
    "\n",
    "**point** - 최대한 많이 나누기 \n"
   ]
  },
  {
   "cell_type": "code",
   "execution_count": null,
   "metadata": {},
   "outputs": [],
   "source": [
    "n,k= map(int,input().split())\n",
    "result = 0\n",
    "\n",
    "while n>=k:\n",
    "    while n%k != 0:\n",
    "        n-=1\n",
    "        result+=1\n",
    "\n",
    "    n//=k\n",
    "    result+=1\n",
    "\n",
    "while n>1:\n",
    "    n-=1\n",
    "    result+=1\n",
    "print(result)"
   ]
  },
  {
   "cell_type": "code",
   "execution_count": null,
   "metadata": {},
   "outputs": [],
   "source": [
    "# n이 100억 이상의 큰 수가 되는 경우 n이 k의 배수가 되도록 작성\n",
    "\n",
    "n,k = map(int,input().split())\n",
    "result = 0\n",
    "\n",
    "while True:\n",
    "    # -1해주기\n",
    "    target = (n//k)*k\n",
    "    result +=(n-target)\n",
    "    n=target\n",
    "\n",
    "    if n<k:\n",
    "        break\n",
    "    #k로 나누기\n",
    "    result +=1\n",
    "    n//=k\n",
    "#남은 수에 대해 1씩 빼기\n",
    "result +=(n-1)\n",
    "print(result)\n"
   ]
  }
 ],
 "metadata": {
  "kernelspec": {
   "display_name": "Python 3",
   "language": "python",
   "name": "python3"
  },
  "language_info": {
   "codemirror_mode": {
    "name": "ipython",
    "version": 3
   },
   "file_extension": ".py",
   "mimetype": "text/x-python",
   "name": "python",
   "nbconvert_exporter": "python",
   "pygments_lexer": "ipython3",
   "version": "3.7.4"
  }
 },
 "nbformat": 4,
 "nbformat_minor": 2
}
